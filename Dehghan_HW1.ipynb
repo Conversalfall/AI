{
  "nbformat": 4,
  "nbformat_minor": 0,
  "metadata": {
    "colab": {
      "provenance": [],
      "authorship_tag": "ABX9TyOrQHNgm+gLdNMnrTypQVrP",
      "include_colab_link": true
    },
    "kernelspec": {
      "name": "python3",
      "display_name": "Python 3"
    },
    "language_info": {
      "name": "python"
    }
  },
  "cells": [
    {
      "cell_type": "markdown",
      "metadata": {
        "id": "view-in-github",
        "colab_type": "text"
      },
      "source": [
        "<a href=\"https://colab.research.google.com/github/Conversalfall/AI/blob/main/Dehghan_HW1.ipynb\" target=\"_parent\"><img src=\"https://colab.research.google.com/assets/colab-badge.svg\" alt=\"Open In Colab\"/></a>"
      ]
    },
    {
      "cell_type": "code",
      "execution_count": 2,
      "metadata": {
        "colab": {
          "base_uri": "https://localhost:8080/"
        },
        "id": "5M3BV-zUdnj2",
        "outputId": "f9c8d07d-abe5-404c-c42d-f85ead42a0c8"
      },
      "outputs": [
        {
          "output_type": "stream",
          "name": "stdout",
          "text": [
            "Enter your age: 17\n",
            "You are a minor.\n"
          ]
        }
      ],
      "source": [
        "\n",
        "x = int(input(\"Enter your age: \"))\n",
        "if x >= 18:\n",
        "  print(\"You are an adult.\")\n",
        "else:\n",
        "  print(\"You are a minor.\")"
      ]
    },
    {
      "cell_type": "code",
      "source": [
        "for i in range(1,11):\n",
        "  print(i)\n",
        ""
      ],
      "metadata": {
        "colab": {
          "base_uri": "https://localhost:8080/"
        },
        "id": "mkYKnbV8d0iy",
        "outputId": "f755f955-50f0-4916-a67b-2369224dabc7"
      },
      "execution_count": 3,
      "outputs": [
        {
          "output_type": "stream",
          "name": "stdout",
          "text": [
            "1\n",
            "2\n",
            "3\n",
            "4\n",
            "5\n",
            "6\n",
            "7\n",
            "8\n",
            "9\n",
            "10\n"
          ]
        }
      ]
    },
    {
      "cell_type": "code",
      "source": [
        "sum = 0\n",
        "num = 1\n",
        "while num<=20:\n",
        "  if num % 2 == 0:\n",
        "    sum += num\n",
        "  num += 1\n",
        "print(\"Sum of even numbers from 1 to 20:\", sum)"
      ],
      "metadata": {
        "colab": {
          "base_uri": "https://localhost:8080/"
        },
        "id": "4R_bitr4d5cb",
        "outputId": "369f83da-ef7c-4b16-8803-756fb94b34ca"
      },
      "execution_count": 4,
      "outputs": [
        {
          "output_type": "stream",
          "name": "stdout",
          "text": [
            "Sum of even numbers from 1 to 20: 110\n"
          ]
        }
      ]
    },
    {
      "cell_type": "code",
      "source": [
        "def multiply(x,y):\n",
        "  multiply = x*y\n",
        "  return(multiply)"
      ],
      "metadata": {
        "id": "oh7Bs4EveAKl"
      },
      "execution_count": 5,
      "outputs": []
    },
    {
      "cell_type": "code",
      "source": [
        "class Person:\n",
        "    def __init__(self, name, age):\n",
        "        \"\"\"\n",
        "        Initialize a Person object with a name and age.\n",
        "\n",
        "        Args:\n",
        "            name (str): The name of the person.\n",
        "            age (int): The age of the person.\n",
        "        \"\"\"\n",
        "        self.name = name\n",
        "        self.age = age\n",
        "\n",
        "person1 = Person(\"Wyatt\", 29)\n",
        "print(\"name:\", person1.name)\n",
        "print(\"age:\", person1.age)"
      ],
      "metadata": {
        "colab": {
          "base_uri": "https://localhost:8080/"
        },
        "id": "dKmWdJNyeSEO",
        "outputId": "7287c58b-8da8-4b36-d84c-442a02ac5378"
      },
      "execution_count": 7,
      "outputs": [
        {
          "output_type": "stream",
          "name": "stdout",
          "text": [
            "name: Wyatt\n",
            "age: 29\n"
          ]
        }
      ]
    },
    {
      "cell_type": "code",
      "source": [
        "class Student(Person):\n",
        "    def __init__(self, name, age, student_id):\n",
        "\n",
        "        super().__init__(name, age)\n",
        "        self.student_id = student_id\n",
        "\n",
        "student1 = Student(\"Wyatt\", 29, 1243124)\n",
        "print(student1.name)\n",
        "print(student1.age)\n",
        "print(student1.student_id)"
      ],
      "metadata": {
        "colab": {
          "base_uri": "https://localhost:8080/"
        },
        "id": "gP24GbQueYne",
        "outputId": "50a0ba64-fd89-4899-8ef1-1ffe49ad6a00"
      },
      "execution_count": 9,
      "outputs": [
        {
          "output_type": "stream",
          "name": "stdout",
          "text": [
            "Wyatt\n",
            "29\n",
            "1243124\n"
          ]
        }
      ]
    },
    {
      "cell_type": "code",
      "source": [
        "def PrimeDetection(x):\n",
        "\n",
        "  for i in range(2,int(x/2)):\n",
        "    if x%i == 0:\n",
        "      prime = False\n",
        "      break\n",
        "    else :\n",
        "      prime = True\n",
        "\n",
        "  if prime == False:\n",
        "    print(x,'is not prime')\n",
        "  else:\n",
        "    print(x,'is prime')\n",
        "\n",
        "\n",
        "PrimeDetection(47)"
      ],
      "metadata": {
        "colab": {
          "base_uri": "https://localhost:8080/"
        },
        "id": "l65qUfqFej_v",
        "outputId": "fbac14ff-52ef-490a-8e56-b6a2c6660ed3"
      },
      "execution_count": 12,
      "outputs": [
        {
          "output_type": "stream",
          "name": "stdout",
          "text": [
            "47 is prime\n"
          ]
        }
      ]
    },
    {
      "cell_type": "code",
      "source": [
        "def fact(x):\n",
        "\n",
        "  if x == 1:\n",
        "     return 1\n",
        "  else:\n",
        "     return (x * fact(x-1))\n",
        "\n",
        "\n",
        "\n",
        "x = int(input('enter an integer:'))\n",
        "print('factoriel',x, 'is :',fact(x))"
      ],
      "metadata": {
        "colab": {
          "base_uri": "https://localhost:8080/"
        },
        "id": "VdSJqK_wfDWc",
        "outputId": "bf07c1a6-0f63-494a-9c66-c5806a4b5e2a"
      },
      "execution_count": 13,
      "outputs": [
        {
          "output_type": "stream",
          "name": "stdout",
          "text": [
            "enter an integer:7\n",
            "factoriel 7 is : 5040\n"
          ]
        }
      ]
    },
    {
      "cell_type": "code",
      "source": [
        "\n",
        "class Rectangle:\n",
        "  def __init__(self, width, height):\n",
        "    self.width=width\n",
        "    self.height=height\n",
        "  def calculate_area(self):\n",
        "    return self.width*self.height\n",
        "\n",
        "rectangle1=Rectangle(9,4)\n",
        "area = rectangle1.calculate_area()\n",
        "print('area:',area)"
      ],
      "metadata": {
        "colab": {
          "base_uri": "https://localhost:8080/"
        },
        "id": "ndjYU-EFfUH-",
        "outputId": "52e25fa5-5cf6-49f3-b3d1-5cbff7f5634e"
      },
      "execution_count": 15,
      "outputs": [
        {
          "output_type": "stream",
          "name": "stdout",
          "text": [
            "area: 36\n"
          ]
        }
      ]
    },
    {
      "cell_type": "code",
      "source": [
        "class Rectangle:\n",
        "  def __init__(self, width, height):\n",
        "    self.width=width\n",
        "    self.height=height\n",
        "  def calculate_area(self):\n",
        "    return self.width*self.height\n",
        "class Squer(Rectangle):\n",
        "  def __init__(self, length):\n",
        "    super().__init__(length, length)\n",
        "    self.length=length\n",
        "  def calculate_perimeter(self):\n",
        "    return self.length*4\n",
        "\n",
        "squer1=Squer(5)\n",
        "perimeter = squer1.calculate_perimeter()\n",
        "print('perimeter:',perimeter)"
      ],
      "metadata": {
        "colab": {
          "base_uri": "https://localhost:8080/"
        },
        "id": "qqWhA_S2fhrn",
        "outputId": "e55eecb5-56ea-47b6-935e-6007a8c38c27"
      },
      "execution_count": 16,
      "outputs": [
        {
          "output_type": "stream",
          "name": "stdout",
          "text": [
            "perimeter: 20\n"
          ]
        }
      ]
    }
  ]
}