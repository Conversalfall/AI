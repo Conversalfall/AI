{
  "nbformat": 4,
  "nbformat_minor": 0,
  "metadata": {
    "colab": {
      "provenance": [],
      "include_colab_link": true
    },
    "kernelspec": {
      "name": "python3",
      "display_name": "Python 3"
    },
    "language_info": {
      "name": "python"
    }
  },
  "cells": [
    {
      "cell_type": "markdown",
      "metadata": {
        "id": "view-in-github",
        "colab_type": "text"
      },
      "source": [
        "<a href=\"https://colab.research.google.com/github/Conversalfall/AI/blob/main/Q1.ipynb\" target=\"_parent\"><img src=\"https://colab.research.google.com/assets/colab-badge.svg\" alt=\"Open In Colab\"/></a>"
      ]
    },
    {
      "cell_type": "markdown",
      "source": [
        "Importing Pandas, train test split(to train and test data with a ratio of 80 20),perceptron to fit it to the model, and accuracy to measure the accuracy"
      ],
      "metadata": {
        "id": "1etEoItemihy"
      }
    },
    {
      "cell_type": "code",
      "execution_count": null,
      "metadata": {
        "id": "ZXCCB6tXN01L"
      },
      "outputs": [],
      "source": [
        "import pandas as pd\n",
        "import numpy as np\n",
        "import matplotlib.pyplot as plt\n",
        "from sklearn.model_selection import train_test_split\n",
        "from sklearn.linear_model import Perceptron\n",
        "from sklearn.metrics import accuracy_score\n",
        "from sklearn.datasets import make_classification, make_regression\n",
        "from sklearn.linear_model import LogisticRegression\n",
        "\n",
        "from mlxtend.plotting import plot_decision_regions\n",
        "\n",
        "import __main__"
      ]
    },
    {
      "cell_type": "markdown",
      "source": [
        "reading the dataset provided"
      ],
      "metadata": {
        "id": "iTgSj5N-m43e"
      }
    },
    {
      "cell_type": "code",
      "source": [
        "data = pd.read_csv('Perceptron.csv')"
      ],
      "metadata": {
        "id": "j3THwFpNOCsz"
      },
      "execution_count": null,
      "outputs": []
    },
    {
      "cell_type": "markdown",
      "source": [
        "assigning columns of the dataset to new variables"
      ],
      "metadata": {
        "id": "bZ6TNLFlm8-m"
      }
    },
    {
      "cell_type": "code",
      "source": [
        "X = data.drop('y', axis=1)\n",
        "y = data['y']"
      ],
      "metadata": {
        "id": "9c6nOWjAOKnq"
      },
      "execution_count": null,
      "outputs": []
    },
    {
      "cell_type": "markdown",
      "source": [
        "Training and testing the data with the ratio"
      ],
      "metadata": {
        "id": "8FSdkYfInBRW"
      }
    },
    {
      "cell_type": "code",
      "source": [
        "X_train, X_test, y_train, y_test = train_test_split(X, y, test_size=0.2,random_state=73)"
      ],
      "metadata": {
        "id": "qG8N-wcdOU4r"
      },
      "execution_count": null,
      "outputs": []
    },
    {
      "cell_type": "markdown",
      "source": [
        "Creating a Neuron"
      ],
      "metadata": {
        "id": "FZ_T92MGu849"
      }
    },
    {
      "cell_type": "code",
      "source": [
        "X_train=np.asarray(X_train)"
      ],
      "metadata": {
        "id": "EzsSag0mP-V3"
      },
      "execution_count": null,
      "outputs": []
    },
    {
      "cell_type": "code",
      "source": [
        "y_train=np.array(y_train)\n",
        "y_train=y_train.reshape(-1,1)\n",
        "y_train.shape,X_train.shape"
      ],
      "metadata": {
        "colab": {
          "base_uri": "https://localhost:8080/"
        },
        "id": "q2Uft4GdQIUA",
        "outputId": "e0e1dd30-38e6-498d-d6cc-5caa96e2ade8"
      },
      "execution_count": null,
      "outputs": [
        {
          "output_type": "execute_result",
          "data": {
            "text/plain": [
              "((320, 1), (320, 2))"
            ]
          },
          "metadata": {},
          "execution_count": 83
        }
      ]
    },
    {
      "cell_type": "markdown",
      "source": [
        "Activation Fcn"
      ],
      "metadata": {
        "id": "QISYs5n7k8pi"
      }
    },
    {
      "cell_type": "code",
      "source": [
        "def relu(x):\n",
        "    return np.maximum(0, x)"
      ],
      "metadata": {
        "id": "wax60OUKu8U0"
      },
      "execution_count": null,
      "outputs": []
    },
    {
      "cell_type": "code",
      "source": [
        "def sigmoid(x):\n",
        "    return 1/(1+np.exp(-x))"
      ],
      "metadata": {
        "id": "HmhL3BsXvur8"
      },
      "execution_count": null,
      "outputs": []
    },
    {
      "cell_type": "code",
      "source": [
        "def tanh(x):\n",
        "    return np.tanh(x)"
      ],
      "metadata": {
        "id": "7aTB73Rovxo7"
      },
      "execution_count": null,
      "outputs": []
    },
    {
      "cell_type": "markdown",
      "source": [
        "Loss Fcn"
      ],
      "metadata": {
        "id": "KQCOQ9qPk6Bp"
      }
    },
    {
      "cell_type": "code",
      "source": [
        "def bce(y, y_hat):\n",
        "    return np.mean(-(y*np.log(y_hat) + (1-y)*np.log(1-y_hat)))"
      ],
      "metadata": {
        "id": "7uPjY-1Cvyks"
      },
      "execution_count": null,
      "outputs": []
    },
    {
      "cell_type": "code",
      "source": [
        "def mse(y, y_hat):\n",
        "    return np.mean((y - y_hat)**2)"
      ],
      "metadata": {
        "id": "SYiYRFojvhK6"
      },
      "execution_count": null,
      "outputs": []
    },
    {
      "cell_type": "code",
      "execution_count": null,
      "metadata": {
        "id": "ba0fff74-c68f-4623-9476-6e90128af010"
      },
      "outputs": [],
      "source": [
        "class Neuron:\n",
        "\n",
        "    def __init__(self, in_features, af=None, loss_fn=mse, n_iter=100, eta=0.1, verbose=True):\n",
        "        self.in_features = in_features\n",
        "        # weight & bias\n",
        "        self.w = np.random.randn(in_features, 1)\n",
        "        self.b = np.random.randn()\n",
        "        self.af = af\n",
        "        self.loss_fn = loss_fn\n",
        "        self.loss_hist = []\n",
        "        self.w_grad, self.b_grad = None, None\n",
        "        self.n_iter = n_iter\n",
        "        self.eta = eta\n",
        "        self.verbose = verbose\n",
        "\n",
        "    def predict(self, x):\n",
        "        # x: [n_samples, in_features]\n",
        "        y_hat = x @ self.w + self.b\n",
        "        y_hat = y_hat if self.af is None else self.af(y_hat)\n",
        "        return y_hat\n",
        "\n",
        "    def fit(self, x, y):\n",
        "        for i in range(self.n_iter):\n",
        "            #model\n",
        "            y_hat = self.predict(x)\n",
        "            #loss\n",
        "            loss = self.loss_fn(y, y_hat)\n",
        "            self.loss_hist.append(loss)\n",
        "            #grad\n",
        "            self.gradient(x, y, y_hat)\n",
        "            #optimize\n",
        "            self.gradient_descent()\n",
        "            #print results\n",
        "            if self.verbose & (i % 10 == 0):\n",
        "                print(f'Iter={i}, Loss={loss:.4}')\n",
        "\n",
        "    def gradient(self, x, y, y_hat):\n",
        "        self.w_grad = (x.T @ (y_hat - y)) / len(y)\n",
        "        self.b_grad = (y_hat - y).mean()\n",
        "\n",
        "    def gradient_descent(self):\n",
        "        self.w -= self.eta * self.w_grad\n",
        "        self.b -= self.eta * self.b_grad\n",
        "\n",
        "    def __repr__(self):\n",
        "        return f'Neuron({self.in_features}, {self.af.__name__})'\n",
        "\n",
        "    def parameters(self):\n",
        "        return {'w': self.w, 'b': self.b}"
      ]
    },
    {
      "cell_type": "code",
      "source": [
        "neuron = Neuron(in_features=2, af=sigmoid,loss_fn=bce,n_iter=100)\n",
        "neuron.fit(X_train,y_train)\n",
        "neuron.parameters()"
      ],
      "metadata": {
        "colab": {
          "base_uri": "https://localhost:8080/"
        },
        "id": "SRL0G1hCvOyP",
        "outputId": "9da38848-732e-4875-8429-daf10ec6aab9"
      },
      "execution_count": null,
      "outputs": [
        {
          "output_type": "stream",
          "name": "stdout",
          "text": [
            "Iter=0, Loss=0.3438\n",
            "Iter=10, Loss=-1.082\n",
            "Iter=20, Loss=-2.014\n",
            "Iter=30, Loss=-2.834\n",
            "Iter=40, Loss=-3.618\n",
            "Iter=50, Loss=-4.387\n",
            "Iter=60, Loss=-5.149\n",
            "Iter=70, Loss=-5.906\n",
            "Iter=80, Loss=-6.661\n",
            "Iter=90, Loss=-7.414\n"
          ]
        },
        {
          "output_type": "execute_result",
          "data": {
            "text/plain": [
              "{'w': array([[-5.80982225],\n",
              "        [-5.62538001]]),\n",
              " 'b': -4.9295353504782184}"
            ]
          },
          "metadata": {},
          "execution_count": 90
        }
      ]
    },
    {
      "cell_type": "code",
      "source": [
        "neuron = Neuron(in_features=2, af=sigmoid)\n",
        "neuron.predict(X)\n",
        "print(neuron.predict(X_test))\n",
        "print(neuron.parameters())"
      ],
      "metadata": {
        "colab": {
          "base_uri": "https://localhost:8080/"
        },
        "id": "3ly6nKpBwjML",
        "outputId": "fdd4af7e-f74f-4076-d3ef-3763c52cf88b"
      },
      "execution_count": null,
      "outputs": [
        {
          "output_type": "stream",
          "name": "stdout",
          "text": [
            "            0\n",
            "386  0.513585\n",
            "7    0.518962\n",
            "358  0.924950\n",
            "236  0.402504\n",
            "335  0.491285\n",
            "..        ...\n",
            "275  0.922326\n",
            "176  0.622135\n",
            "55   0.430393\n",
            "48   0.931184\n",
            "74   0.658722\n",
            "\n",
            "[80 rows x 1 columns]\n",
            "{'w': array([[0.47067408],\n",
            "       [0.71400123]]), 'b': 0.9847379765565988}\n"
          ]
        }
      ]
    },
    {
      "cell_type": "code",
      "source": [
        "neuron.fit(X_train, y_train[:])\n",
        "neuron.parameters()"
      ],
      "metadata": {
        "colab": {
          "base_uri": "https://localhost:8080/"
        },
        "id": "M2HvLZ5Dw-q6",
        "outputId": "79a79eb3-c550-4ba3-d3b6-427925c037d5"
      },
      "execution_count": null,
      "outputs": [
        {
          "output_type": "stream",
          "name": "stdout",
          "text": [
            "Iter=0, Loss=1.942\n",
            "Iter=10, Loss=0.955\n",
            "Iter=20, Loss=0.6019\n",
            "Iter=30, Loss=0.5277\n",
            "Iter=40, Loss=0.5089\n",
            "Iter=50, Loss=0.5036\n",
            "Iter=60, Loss=0.502\n",
            "Iter=70, Loss=0.5016\n",
            "Iter=80, Loss=0.5017\n",
            "Iter=90, Loss=0.5019\n"
          ]
        },
        {
          "output_type": "execute_result",
          "data": {
            "text/plain": [
              "{'w': array([[-5.41336534],\n",
              "        [-5.21405989]]),\n",
              " 'b': -3.979228493641862}"
            ]
          },
          "metadata": {},
          "execution_count": 92
        }
      ]
    },
    {
      "cell_type": "code",
      "source": [
        "plt.plot(neuron.loss_hist)"
      ],
      "metadata": {
        "colab": {
          "base_uri": "https://localhost:8080/",
          "height": 449
        },
        "id": "Bb6sBlWJhn5t",
        "outputId": "6c1d3112-e8dd-4668-ed91-ab14440ab559"
      },
      "execution_count": null,
      "outputs": [
        {
          "output_type": "execute_result",
          "data": {
            "text/plain": [
              "[<matplotlib.lines.Line2D at 0x7fc2b7dce890>]"
            ]
          },
          "metadata": {},
          "execution_count": 93
        },
        {
          "output_type": "display_data",
          "data": {
            "text/plain": [
              "<Figure size 640x480 with 1 Axes>"
            ],
            "image/png": "[encoded data removed]"
          },
          "metadata": {}
        }
      ]
    }
  ]
}