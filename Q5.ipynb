{
  "nbformat": 4,
  "nbformat_minor": 0,
  "metadata": {
    "colab": {
      "provenance": [],
      "collapsed_sections": [
        "uDm9COoKVbFW"
      ],
      "include_colab_link": true
    },
    "kernelspec": {
      "name": "python3",
      "display_name": "Python 3"
    },
    "language_info": {
      "name": "python"
    }
  },
  "cells": [
    {
      "cell_type": "markdown",
      "metadata": {
        "id": "view-in-github",
        "colab_type": "text"
      },
      "source": [
        "<a href=\"https://colab.research.google.com/github/Conversalfall/AI/blob/main/Q5.ipynb\" target=\"_parent\"><img src=\"https://colab.research.google.com/assets/colab-badge.svg\" alt=\"Open In Colab\"/></a>"
      ]
    },
    {
      "cell_type": "code",
      "execution_count": null,
      "metadata": {
        "id": "200a00ca-65a5-4f3b-a7c4-abe6826a19fd"
      },
      "outputs": [],
      "source": [
        "from sklearn.neural_network import MLPClassifier, MLPRegressor\n",
        "\n",
        "from sklearn.datasets import load_diabetes, load_digits\n",
        "\n",
        "from imblearn.under_sampling import RandomUnderSampler\n",
        "\n",
        "from sklearn.model_selection import train_test_split\n",
        "\n",
        "from sklearn.preprocessing import StandardScaler\n",
        "\n",
        "import numpy as np\n",
        "\n",
        "import pandas as pd\n"
      ]
    },
    {
      "cell_type": "markdown",
      "metadata": {
        "jp-MarkdownHeadingCollapsed": true,
        "tags": [],
        "id": "EJEAp-1BDJ2I"
      },
      "source": [
        "## `Data()`"
      ]
    },
    {
      "cell_type": "code",
      "execution_count": null,
      "metadata": {
        "id": "f3fb7adb-ca34-42ea-86a1-204387d87cc5",
        "outputId": "b2aa3494-0a49-4270-edcb-f45a69856251",
        "colab": {
          "base_uri": "https://localhost:8080/",
          "height": 227
        }
      },
      "outputs": [
        {
          "output_type": "error",
          "ename": "NameError",
          "evalue": "ignored",
          "traceback": [
            "\u001b[0;31m---------------------------------------------------------------------------\u001b[0m",
            "\u001b[0;31mNameError\u001b[0m                                 Traceback (most recent call last)",
            "\u001b[0;32m<ipython-input-2-dafe7e5605a8>\u001b[0m in \u001b[0;36m<cell line: 1>\u001b[0;34m()\u001b[0m\n\u001b[0;32m----> 1\u001b[0;31m \u001b[0miris\u001b[0m \u001b[0;34m=\u001b[0m \u001b[0mload_iris\u001b[0m\u001b[0;34m(\u001b[0m\u001b[0;34m)\u001b[0m\u001b[0;34m\u001b[0m\u001b[0;34m\u001b[0m\u001b[0m\n\u001b[0m\u001b[1;32m      2\u001b[0m \u001b[0mdf\u001b[0m \u001b[0;34m=\u001b[0m \u001b[0mpd\u001b[0m\u001b[0;34m.\u001b[0m\u001b[0mDataFrame\u001b[0m\u001b[0;34m(\u001b[0m\u001b[0mdata\u001b[0m\u001b[0;34m=\u001b[0m\u001b[0miris\u001b[0m\u001b[0;34m.\u001b[0m\u001b[0mdata\u001b[0m\u001b[0;34m,\u001b[0m \u001b[0mcolumns\u001b[0m\u001b[0;34m=\u001b[0m\u001b[0miris\u001b[0m\u001b[0;34m.\u001b[0m\u001b[0mfeature_names\u001b[0m\u001b[0;34m)\u001b[0m\u001b[0;34m\u001b[0m\u001b[0;34m\u001b[0m\u001b[0m\n\u001b[1;32m      3\u001b[0m \u001b[0mdf\u001b[0m\u001b[0;34m[\u001b[0m\u001b[0;34m'target'\u001b[0m\u001b[0;34m]\u001b[0m \u001b[0;34m=\u001b[0m \u001b[0miris\u001b[0m\u001b[0;34m.\u001b[0m\u001b[0mtarget\u001b[0m\u001b[0;34m\u001b[0m\u001b[0;34m\u001b[0m\u001b[0m\n\u001b[1;32m      4\u001b[0m \u001b[0mdf\u001b[0m\u001b[0;34m\u001b[0m\u001b[0;34m\u001b[0m\u001b[0m\n",
            "\u001b[0;31mNameError\u001b[0m: name 'load_iris' is not defined"
          ]
        }
      ],
      "source": [
        "iris = load_iris()\n",
        "df = pd.DataFrame(data=iris.data, columns=iris.feature_names)\n",
        "df['target'] = iris.target\n",
        "df"
      ]
    },
    {
      "cell_type": "code",
      "source": [
        "import matplotlib.pyplot as plt\n",
        "\n",
        "_, ax = plt.subplots()\n",
        "scatter = ax.scatter(iris.data[:, 0], iris.data[:, 1], c=iris.target)\n",
        "ax.set(xlabel=iris.feature_names[0], ylabel=iris.feature_names[1])\n",
        "_ = ax.legend(\n",
        "    scatter.legend_elements()[0], iris.target_names, loc=\"lower right\", title=\"Classes\"\n",
        ")"
      ],
      "metadata": {
        "id": "xsYi7VQyS7Zn",
        "colab": {
          "base_uri": "https://localhost:8080/",
          "height": 663
        },
        "outputId": "b0147499-06fa-4c02-9c85-70337657a3d9"
      },
      "execution_count": null,
      "outputs": [
        {
          "output_type": "error",
          "ename": "NameError",
          "evalue": "ignored",
          "traceback": [
            "\u001b[0;31m---------------------------------------------------------------------------\u001b[0m",
            "\u001b[0;31mNameError\u001b[0m                                 Traceback (most recent call last)",
            "\u001b[0;32m<ipython-input-3-277b694c62d7>\u001b[0m in \u001b[0;36m<cell line: 4>\u001b[0;34m()\u001b[0m\n\u001b[1;32m      2\u001b[0m \u001b[0;34m\u001b[0m\u001b[0m\n\u001b[1;32m      3\u001b[0m \u001b[0m_\u001b[0m\u001b[0;34m,\u001b[0m \u001b[0max\u001b[0m \u001b[0;34m=\u001b[0m \u001b[0mplt\u001b[0m\u001b[0;34m.\u001b[0m\u001b[0msubplots\u001b[0m\u001b[0;34m(\u001b[0m\u001b[0;34m)\u001b[0m\u001b[0;34m\u001b[0m\u001b[0;34m\u001b[0m\u001b[0m\n\u001b[0;32m----> 4\u001b[0;31m \u001b[0mscatter\u001b[0m \u001b[0;34m=\u001b[0m \u001b[0max\u001b[0m\u001b[0;34m.\u001b[0m\u001b[0mscatter\u001b[0m\u001b[0;34m(\u001b[0m\u001b[0miris\u001b[0m\u001b[0;34m.\u001b[0m\u001b[0mdata\u001b[0m\u001b[0;34m[\u001b[0m\u001b[0;34m:\u001b[0m\u001b[0;34m,\u001b[0m \u001b[0;36m0\u001b[0m\u001b[0;34m]\u001b[0m\u001b[0;34m,\u001b[0m \u001b[0miris\u001b[0m\u001b[0;34m.\u001b[0m\u001b[0mdata\u001b[0m\u001b[0;34m[\u001b[0m\u001b[0;34m:\u001b[0m\u001b[0;34m,\u001b[0m \u001b[0;36m1\u001b[0m\u001b[0;34m]\u001b[0m\u001b[0;34m,\u001b[0m \u001b[0mc\u001b[0m\u001b[0;34m=\u001b[0m\u001b[0miris\u001b[0m\u001b[0;34m.\u001b[0m\u001b[0mtarget\u001b[0m\u001b[0;34m)\u001b[0m\u001b[0;34m\u001b[0m\u001b[0;34m\u001b[0m\u001b[0m\n\u001b[0m\u001b[1;32m      5\u001b[0m \u001b[0max\u001b[0m\u001b[0;34m.\u001b[0m\u001b[0mset\u001b[0m\u001b[0;34m(\u001b[0m\u001b[0mxlabel\u001b[0m\u001b[0;34m=\u001b[0m\u001b[0miris\u001b[0m\u001b[0;34m.\u001b[0m\u001b[0mfeature_names\u001b[0m\u001b[0;34m[\u001b[0m\u001b[0;36m0\u001b[0m\u001b[0;34m]\u001b[0m\u001b[0;34m,\u001b[0m \u001b[0mylabel\u001b[0m\u001b[0;34m=\u001b[0m\u001b[0miris\u001b[0m\u001b[0;34m.\u001b[0m\u001b[0mfeature_names\u001b[0m\u001b[0;34m[\u001b[0m\u001b[0;36m1\u001b[0m\u001b[0;34m]\u001b[0m\u001b[0;34m)\u001b[0m\u001b[0;34m\u001b[0m\u001b[0;34m\u001b[0m\u001b[0m\n\u001b[1;32m      6\u001b[0m _ = ax.legend(\n",
            "\u001b[0;31mNameError\u001b[0m: name 'iris' is not defined"
          ]
        },
        {
          "output_type": "display_data",
          "data": {
            "text/plain": [
              "<Figure size 640x480 with 1 Axes>"
            ],
            "image/png": "[encoded data removed]"
          },
          "metadata": {}
        }
      ]
    },
    {
      "cell_type": "code",
      "source": [
        "# Display information about the DataFrame\n",
        "df.info()"
      ],
      "metadata": {
        "colab": {
          "base_uri": "https://localhost:8080/"
        },
        "id": "Cs-ntxA1GZUA",
        "outputId": "ada668ba-aa55-4b9e-d221-adf8c6af9619"
      },
      "execution_count": null,
      "outputs": [
        {
          "output_type": "stream",
          "name": "stdout",
          "text": [
            "<class 'pandas.core.frame.DataFrame'>\n",
            "RangeIndex: 150 entries, 0 to 149\n",
            "Data columns (total 5 columns):\n",
            " #   Column             Non-Null Count  Dtype  \n",
            "---  ------             --------------  -----  \n",
            " 0   sepal length (cm)  150 non-null    float64\n",
            " 1   sepal width (cm)   150 non-null    float64\n",
            " 2   petal length (cm)  150 non-null    float64\n",
            " 3   petal width (cm)   150 non-null    float64\n",
            " 4   target             150 non-null    int64  \n",
            "dtypes: float64(4), int64(1)\n",
            "memory usage: 6.0 KB\n"
          ]
        }
      ]
    },
    {
      "cell_type": "code",
      "source": [
        "df.isnull().sum()\n",
        "\n",
        "# Remove rows with any null values\n",
        "# df.dropna(inplace=True)"
      ],
      "metadata": {
        "colab": {
          "base_uri": "https://localhost:8080/"
        },
        "id": "4-5GvLBZGeiA",
        "outputId": "9d3bfa06-24c1-4f5b-90c6-58acd73b53f4"
      },
      "execution_count": null,
      "outputs": [
        {
          "output_type": "execute_result",
          "data": {
            "text/plain": [
              "sepal length (cm)    0\n",
              "sepal width (cm)     0\n",
              "petal length (cm)    0\n",
              "petal width (cm)     0\n",
              "target               0\n",
              "dtype: int64"
            ]
          },
          "metadata": {},
          "execution_count": 23
        }
      ]
    },
    {
      "cell_type": "code",
      "source": [
        "# Separate input (X) and output (Y) data\n",
        "Y = df[\"target\"]  # Output data\n",
        "X = df.drop([\"target\"], axis=1)  # Input data"
      ],
      "metadata": {
        "id": "giY7m7o_MEXf"
      },
      "execution_count": null,
      "outputs": []
    },
    {
      "cell_type": "code",
      "source": [
        "# Perform train-test split\n",
        "x_train, x_test, y_train, y_test = train_test_split(X, Y, test_size=0.2, random_state=7)"
      ],
      "metadata": {
        "id": "ycVCdTDMLq1g"
      },
      "execution_count": null,
      "outputs": []
    },
    {
      "cell_type": "code",
      "source": [
        "# Initialize Min-Max Scaler\n",
        "scaler_1 = StandardScaler()\n",
        "\n",
        "# Normalize the training input data\n",
        "x_train = scaler_1.fit_transform(x_train)\n",
        "\n",
        "# Normalize the test input data\n",
        "x_test = scaler_1.transform(x_test)"
      ],
      "metadata": {
        "id": "1mV4DQ2XLrmn"
      },
      "execution_count": null,
      "outputs": []
    },
    {
      "cell_type": "markdown",
      "metadata": {
        "jp-MarkdownHeadingCollapsed": true,
        "tags": [],
        "id": "814e6fe8-67bd-4ef7-825e-c13ce6b18a49"
      },
      "source": [
        "## `MLPClassifier()`"
      ]
    },
    {
      "cell_type": "code",
      "source": [
        "model = MLPClassifier(hidden_layer_sizes=(100,), activation='linier', solver='adam',\n",
        "                      alpha=0.0001, batch_size='auto', learning_rate='constant', learning_rate_init=0.001, max_iter=200, shuffle=True, random_state=12)"
      ],
      "metadata": {
        "id": "cE58n6HLTmuR"
      },
      "execution_count": null,
      "outputs": []
    },
    {
      "cell_type": "code",
      "source": [
        "model = MLPClassifier(hidden_layer_sizes=(10, 5, 2), random_state=12, verbose = True)\n",
        "model.fit(x_train, y_train)\n",
        "model.score(x_test, y_test)"
      ],
      "metadata": {
        "colab": {
          "base_uri": "https://localhost:8080/"
        },
        "id": "R8kYVkTJCP07",
        "outputId": "961a6068-9f6b-4cda-e73f-795ad7cc466b"
      },
      "execution_count": null,
      "outputs": [
        {
          "output_type": "stream",
          "name": "stdout",
          "text": [
            "Iteration 1, loss = 1.55711363\n",
            "Iteration 2, loss = 1.55202633\n",
            "Iteration 3, loss = 1.54694150\n",
            "Iteration 4, loss = 1.54191421\n",
            "Iteration 5, loss = 1.53680224\n",
            "Iteration 6, loss = 1.53163204\n",
            "Iteration 7, loss = 1.52645183\n",
            "Iteration 8, loss = 1.52123300\n",
            "Iteration 9, loss = 1.51596325\n",
            "Iteration 10, loss = 1.51077946\n",
            "Iteration 11, loss = 1.50561940\n",
            "Iteration 12, loss = 1.50049241\n",
            "Iteration 13, loss = 1.49539555\n",
            "Iteration 14, loss = 1.49038230\n",
            "Iteration 15, loss = 1.48551351\n",
            "Iteration 16, loss = 1.48078403\n",
            "Iteration 17, loss = 1.47615333\n",
            "Iteration 18, loss = 1.47157884\n",
            "Iteration 19, loss = 1.46718824\n",
            "Iteration 20, loss = 1.46297381\n",
            "Iteration 21, loss = 1.45885418\n",
            "Iteration 22, loss = 1.45475084\n",
            "Iteration 23, loss = 1.45065405\n",
            "Iteration 24, loss = 1.44659854\n",
            "Iteration 25, loss = 1.44261584\n",
            "Iteration 26, loss = 1.43870058\n",
            "Iteration 27, loss = 1.43483213\n",
            "Iteration 28, loss = 1.43099198\n",
            "Iteration 29, loss = 1.42720221\n",
            "Iteration 30, loss = 1.42343516\n",
            "Iteration 31, loss = 1.41956821\n",
            "Iteration 32, loss = 1.41568243\n",
            "Iteration 33, loss = 1.41180187\n",
            "Iteration 34, loss = 1.40793740\n",
            "Iteration 35, loss = 1.40400454\n",
            "Iteration 36, loss = 1.40003923\n",
            "Iteration 37, loss = 1.39603350\n",
            "Iteration 38, loss = 1.39196504\n",
            "Iteration 39, loss = 1.38783779\n",
            "Iteration 40, loss = 1.38365189\n",
            "Iteration 41, loss = 1.37936271\n",
            "Iteration 42, loss = 1.37510801\n",
            "Iteration 43, loss = 1.37086075\n",
            "Iteration 44, loss = 1.36661238\n",
            "Iteration 45, loss = 1.36224694\n",
            "Iteration 46, loss = 1.35779132\n",
            "Iteration 47, loss = 1.35329807\n",
            "Iteration 48, loss = 1.34877276\n",
            "Iteration 49, loss = 1.34405928\n",
            "Iteration 50, loss = 1.33938118\n",
            "Iteration 51, loss = 1.33462635\n",
            "Iteration 52, loss = 1.33007276\n",
            "Iteration 53, loss = 1.32564969\n",
            "Iteration 54, loss = 1.32121350\n",
            "Iteration 55, loss = 1.31683622\n",
            "Iteration 56, loss = 1.31253125\n",
            "Iteration 57, loss = 1.30827503\n",
            "Iteration 58, loss = 1.30409889\n",
            "Iteration 59, loss = 1.29996838\n",
            "Iteration 60, loss = 1.29590592\n",
            "Iteration 61, loss = 1.29188493\n",
            "Iteration 62, loss = 1.28791887\n",
            "Iteration 63, loss = 1.28402839\n",
            "Iteration 64, loss = 1.28017898\n",
            "Iteration 65, loss = 1.27642847\n",
            "Iteration 66, loss = 1.27274339\n",
            "Iteration 67, loss = 1.26911054\n",
            "Iteration 68, loss = 1.26552198\n",
            "Iteration 69, loss = 1.26195432\n",
            "Iteration 70, loss = 1.25842214\n",
            "Iteration 71, loss = 1.25492163\n",
            "Iteration 72, loss = 1.25144051\n",
            "Iteration 73, loss = 1.24804709\n",
            "Iteration 74, loss = 1.24469354\n",
            "Iteration 75, loss = 1.24140249\n",
            "Iteration 76, loss = 1.23818347\n",
            "Iteration 77, loss = 1.23501059\n",
            "Iteration 78, loss = 1.23188780\n",
            "Iteration 79, loss = 1.22884638\n",
            "Iteration 80, loss = 1.22592048\n",
            "Iteration 81, loss = 1.22305938\n",
            "Iteration 82, loss = 1.22022560\n",
            "Iteration 83, loss = 1.21744524\n",
            "Iteration 84, loss = 1.21473167\n",
            "Iteration 85, loss = 1.21208089\n",
            "Iteration 86, loss = 1.20951584\n",
            "Iteration 87, loss = 1.20701034\n",
            "Iteration 88, loss = 1.20459667\n",
            "Iteration 89, loss = 1.20226960\n",
            "Iteration 90, loss = 1.19998647\n",
            "Iteration 91, loss = 1.19773832\n",
            "Iteration 92, loss = 1.19554607\n",
            "Iteration 93, loss = 1.19342376\n",
            "Iteration 94, loss = 1.19135768\n",
            "Iteration 95, loss = 1.18934741\n",
            "Iteration 96, loss = 1.18737941\n",
            "Iteration 97, loss = 1.18544896\n",
            "Iteration 98, loss = 1.18352876\n",
            "Iteration 99, loss = 1.18163209\n",
            "Iteration 100, loss = 1.17982427\n",
            "Iteration 101, loss = 1.17805162\n",
            "Iteration 102, loss = 1.17629616\n",
            "Iteration 103, loss = 1.17457036\n",
            "Iteration 104, loss = 1.17285942\n",
            "Iteration 105, loss = 1.17118877\n",
            "Iteration 106, loss = 1.16955283\n",
            "Iteration 107, loss = 1.16797248\n",
            "Iteration 108, loss = 1.16640947\n",
            "Iteration 109, loss = 1.16485327\n",
            "Iteration 110, loss = 1.16329547\n",
            "Iteration 111, loss = 1.16173717\n",
            "Iteration 112, loss = 1.16018481\n",
            "Iteration 113, loss = 1.15864263\n",
            "Iteration 114, loss = 1.15710333\n",
            "Iteration 115, loss = 1.15557512\n",
            "Iteration 116, loss = 1.15405731\n",
            "Iteration 117, loss = 1.15255169\n",
            "Iteration 118, loss = 1.15105610\n",
            "Iteration 119, loss = 1.14956382\n",
            "Iteration 120, loss = 1.14807286\n",
            "Iteration 121, loss = 1.14658234\n",
            "Iteration 122, loss = 1.14509624\n",
            "Iteration 123, loss = 1.14361988\n",
            "Iteration 124, loss = 1.14214479\n",
            "Iteration 125, loss = 1.14067061\n",
            "Iteration 126, loss = 1.13919686\n",
            "Iteration 127, loss = 1.13772761\n",
            "Iteration 128, loss = 1.13625789\n",
            "Iteration 129, loss = 1.13478649\n",
            "Iteration 130, loss = 1.13331655\n",
            "Iteration 131, loss = 1.13184974\n",
            "Iteration 132, loss = 1.13038483\n",
            "Iteration 133, loss = 1.12892041\n",
            "Iteration 134, loss = 1.12745687\n",
            "Iteration 135, loss = 1.12599412\n",
            "Iteration 136, loss = 1.12453219\n",
            "Iteration 137, loss = 1.12307463\n",
            "Iteration 138, loss = 1.12162008\n",
            "Iteration 139, loss = 1.12016621\n",
            "Iteration 140, loss = 1.11871459\n",
            "Iteration 141, loss = 1.11726536\n",
            "Iteration 142, loss = 1.11581802\n",
            "Iteration 143, loss = 1.11437223\n",
            "Iteration 144, loss = 1.11292779\n",
            "Iteration 145, loss = 1.11148412\n",
            "Iteration 146, loss = 1.11004160\n",
            "Iteration 147, loss = 1.10859965\n",
            "Iteration 148, loss = 1.10715816\n",
            "Iteration 149, loss = 1.10571709\n",
            "Iteration 150, loss = 1.10427634\n",
            "Iteration 151, loss = 1.10283602\n",
            "Iteration 152, loss = 1.10139681\n",
            "Iteration 153, loss = 1.09995796\n",
            "Iteration 154, loss = 1.09851956\n",
            "Iteration 155, loss = 1.09708389\n",
            "Iteration 156, loss = 1.09564848\n",
            "Iteration 157, loss = 1.09421395\n",
            "Iteration 158, loss = 1.09277980\n",
            "Iteration 159, loss = 1.09134601\n",
            "Iteration 160, loss = 1.08991254\n",
            "Iteration 161, loss = 1.08847942\n",
            "Iteration 162, loss = 1.08704662\n",
            "Iteration 163, loss = 1.08561463\n",
            "Iteration 164, loss = 1.08418348\n",
            "Iteration 165, loss = 1.08275486\n",
            "Iteration 166, loss = 1.08132688\n",
            "Iteration 167, loss = 1.07990003\n",
            "Iteration 168, loss = 1.07847484\n",
            "Iteration 169, loss = 1.07705245\n",
            "Iteration 170, loss = 1.07563074\n",
            "Iteration 171, loss = 1.07420972\n",
            "Iteration 172, loss = 1.07278941\n",
            "Iteration 173, loss = 1.07136970\n",
            "Iteration 174, loss = 1.06995054\n",
            "Iteration 175, loss = 1.06853241\n",
            "Iteration 176, loss = 1.06711491\n",
            "Iteration 177, loss = 1.06569782\n",
            "Iteration 178, loss = 1.06428146\n",
            "Iteration 179, loss = 1.06286557\n",
            "Iteration 180, loss = 1.06145103\n",
            "Iteration 181, loss = 1.06003784\n",
            "Iteration 182, loss = 1.05862326\n",
            "Iteration 183, loss = 1.05720801\n",
            "Iteration 184, loss = 1.05579936\n",
            "Iteration 185, loss = 1.05439140\n",
            "Iteration 186, loss = 1.05298323\n",
            "Iteration 187, loss = 1.05157614\n",
            "Iteration 188, loss = 1.05016989\n",
            "Iteration 189, loss = 1.04876408\n",
            "Iteration 190, loss = 1.04736225\n",
            "Iteration 191, loss = 1.04596106\n",
            "Iteration 192, loss = 1.04456048\n",
            "Iteration 193, loss = 1.04316043\n",
            "Iteration 194, loss = 1.04176086\n",
            "Iteration 195, loss = 1.04036172\n",
            "Iteration 196, loss = 1.03896299\n",
            "Iteration 197, loss = 1.03756462\n",
            "Iteration 198, loss = 1.03616658\n",
            "Iteration 199, loss = 1.03477028\n",
            "Iteration 200, loss = 1.03337697\n"
          ]
        },
        {
          "output_type": "execute_result",
          "data": {
            "text/plain": [
              "0.36666666666666664"
            ]
          },
          "metadata": {},
          "execution_count": 41
        }
      ]
    },
    {
      "cell_type": "code",
      "source": [
        "from sklearn.neural_network import MLPClassifier\n",
        "from sklearn.metrics import confusion_matrix, classification_report\n",
        "import seaborn as sns\n",
        "import matplotlib.pyplot as plt\n",
        "import numpy as np\n",
        "\n",
        "# Assuming you've trained your model already\n",
        "model = MLPClassifier(hidden_layer_sizes=(90), random_state=12)\n",
        "model.fit(x_train, y_train)\n",
        "\n",
        "# Making predictions on the test set\n",
        "y_pred = model.predict(x_test)\n",
        "\n",
        "# Calculating confusion matrix\n",
        "cf_matrix = confusion_matrix(y_test, y_pred)\n",
        "\n",
        "# Plotting confusion matrix as a heatmap with fitted text\n",
        "plt.figure(figsize=(8, 6))\n",
        "sns.heatmap(cf_matrix, annot=True, fmt='d', cmap='Blues', annot_kws={\"size\": 12})\n",
        "\n",
        "# Get the axis to modify layout\n",
        "plt.gca().set_ylim(len(np.unique(y_test)), 0)  # Fix for matplotlib 3.1.1 and 3.1.2\n",
        "plt.title('Confusion Matrix')\n",
        "plt.xlabel('Predicted labels')\n",
        "plt.ylabel('True labels')\n",
        "\n",
        "# Save the plot as PNG\n",
        "plt.tight_layout()\n",
        "plt.savefig('confusion_matrix.png', dpi=300)\n",
        "plt.show()\n",
        "\n",
        "# Printing classification report\n",
        "print(\"Classification Report:\")\n",
        "print(classification_report(y_test, y_pred))\n"
      ],
      "metadata": {
        "colab": {
          "base_uri": "https://localhost:8080/",
          "height": 804
        },
        "id": "6D8ZXsNySGQ_",
        "outputId": "0b1b1854-9c1c-4fc0-dc51-b3f95b22c09f"
      },
      "execution_count": null,
      "outputs": [
        {
          "output_type": "display_data",
          "data": {
            "text/plain": [
              "<Figure size 800x600 with 2 Axes>"
            ],
            "image/png": "[encoded data removed]"
          },
          "metadata": {}
        },
        {
          "output_type": "stream",
          "name": "stdout",
          "text": [
            "Classification Report:\n",
            "              precision    recall  f1-score   support\n",
            "\n",
            "           0       1.00      1.00      1.00         7\n",
            "           1       0.78      0.58      0.67        12\n",
            "           2       0.64      0.82      0.72        11\n",
            "\n",
            "    accuracy                           0.77        30\n",
            "   macro avg       0.81      0.80      0.80        30\n",
            "weighted avg       0.78      0.77      0.76        30\n",
            "\n"
          ]
        }
      ]
    },
    {
      "cell_type": "code",
      "source": [
        "from sklearn.neural_network import MLPClassifier\n",
        "from sklearn.metrics import confusion_matrix, classification_report\n",
        "import seaborn as sns\n",
        "import matplotlib.pyplot as plt\n",
        "import numpy as np\n",
        "\n",
        "# Assuming you've trained your model already\n",
        "model = MLPClassifier(hidden_layer_sizes=(90), random_state=12)\n",
        "model.fit(x_train, y_train)\n",
        "\n",
        "# Making predictions on the test set\n",
        "y_pred = model.predict(x_test)\n",
        "\n",
        "# Calculating confusion matrix\n",
        "cf_matrix = confusion_matrix(y_test, y_pred)\n",
        "\n",
        "# Calculating percentages for each cell\n",
        "cf_matrix_percent = cf_matrix.astype('float') / cf_matrix.sum(axis=1)[:, np.newaxis] * 100\n",
        "\n",
        "# Plotting confusion matrix as a heatmap with percentages\n",
        "plt.figure(figsize=(8, 6))\n",
        "sns.heatmap(cf_matrix_percent, annot=True, fmt='.2f', cmap='Blues', annot_kws={\"size\": 12})\n",
        "\n",
        "# Get the axis to modify layout\n",
        "plt.gca().set_ylim(len(np.unique(y_test)), 0)  # Fix for matplotlib 3.1.1 and 3.1.2\n",
        "plt.title('Confusion Matrix (%)')\n",
        "plt.xlabel('Predicted labels')\n",
        "plt.ylabel('True labels')\n",
        "\n",
        "# Save the plot as PNG\n",
        "plt.tight_layout()\n",
        "plt.savefig('confusion_matrix_percentage.png', dpi=300)\n",
        "plt.show()\n",
        "\n",
        "# Printing classification report\n",
        "print(\"Classification Report:\")\n",
        "print(classification_report(y_test, y_pred))\n"
      ],
      "metadata": {
        "colab": {
          "base_uri": "https://localhost:8080/",
          "height": 804
        },
        "id": "OOT7MknhSkpk",
        "outputId": "237cd0bd-e6c3-42db-9581-9fec1e57a4b8"
      },
      "execution_count": null,
      "outputs": [
        {
          "output_type": "display_data",
          "data": {
            "text/plain": [
              "<Figure size 800x600 with 2 Axes>"
            ],
            "image/png": "[encoded data removed]"
          },
          "metadata": {}
        },
        {
          "output_type": "stream",
          "name": "stdout",
          "text": [
            "Classification Report:\n",
            "              precision    recall  f1-score   support\n",
            "\n",
            "           0       1.00      1.00      1.00         7\n",
            "           1       0.78      0.58      0.67        12\n",
            "           2       0.64      0.82      0.72        11\n",
            "\n",
            "    accuracy                           0.77        30\n",
            "   macro avg       0.81      0.80      0.80        30\n",
            "weighted avg       0.78      0.77      0.76        30\n",
            "\n"
          ]
        }
      ]
    },
    {
      "cell_type": "code",
      "source": [
        "# from sklearn.neural_network import MLPClassifier\n",
        "# from sklearn.model_selection import validation_curve\n",
        "# import matplotlib.pyplot as plt\n",
        "\n",
        "# # Define the MLPClassifier model\n",
        "# model = MLPClassifier(hidden_layer_sizes=(4), random_state=12, verbose=True)\n",
        "\n",
        "# # Train the model and capture the training/validation scores and losses\n",
        "# train_scores, valid_scores = validation_curve(\n",
        "#     model, x_train, y_train, param_name=\"max_iter\", param_range=[10, 50, 100, 200],\n",
        "#     cv=5, scoring=\"accuracy\", n_jobs=1\n",
        "# )\n",
        "\n",
        "# # Calculate the mean training/validation losses\n",
        "# train_losses = 1 - train_scores.mean(axis=1)\n",
        "# valid_losses = 1 - valid_scores.mean(axis=1)\n",
        "\n",
        "# # Fit the model with the full training set\n",
        "# model.fit(x_train, y_train)\n",
        "\n",
        "# # Calculate the accuracy on the test set\n",
        "# test_accuracy = model.score(x_test, y_test)\n",
        "\n",
        "# # Plotting the training and validation losses\n",
        "# plt.figure(figsize=(8, 6))\n",
        "# plt.plot([10, 50, 100, 200], train_losses, label='Training loss')\n",
        "# plt.plot([10, 50, 100, 200], valid_losses, label='Validation loss')\n",
        "# plt.xlabel('Number of Iterations')\n",
        "# plt.ylabel('Loss')\n",
        "# plt.title('Training and Validation Losses')\n",
        "# plt.legend()\n",
        "# plt.show()\n",
        "\n",
        "# print(f\"Test Accuracy: {test_accuracy}\")\n"
      ],
      "metadata": {
        "id": "IS59kgF0V-n6"
      },
      "execution_count": null,
      "outputs": []
    },
    {
      "cell_type": "markdown",
      "metadata": {
        "jp-MarkdownHeadingCollapsed": true,
        "tags": [],
        "id": "uDm9COoKVbFW"
      },
      "source": [
        "## `LogisticRegression()`"
      ]
    },
    {
      "cell_type": "code",
      "source": [
        "from sklearn.linear_model import LogisticRegression\n",
        "from sklearn.metrics import confusion_matrix, classification_report\n",
        "import seaborn as sns\n",
        "import matplotlib.pyplot as plt\n",
        "import numpy as np\n",
        "\n",
        "# Assuming you've trained your model already\n",
        "model = LogisticRegression(max_iter=1000, random_state=12)\n",
        "# model = LogisticRegression(max_iter=10000, random_state=12)\n",
        "model.fit(x_train, y_train)\n",
        "\n",
        "# Making predictions on the test set\n",
        "y_pred = model.predict(x_test)\n",
        "\n",
        "# Calculating confusion matrix\n",
        "cf_matrix = confusion_matrix(y_test, y_pred)\n",
        "\n",
        "# Plotting confusion matrix as a heatmap with fitted text\n",
        "plt.figure(figsize=(8, 6))\n",
        "sns.heatmap(cf_matrix, annot=True, fmt='d', cmap='Blues', annot_kws={\"size\": 12})\n",
        "\n",
        "# Get the axis to modify layout\n",
        "plt.gca().set_ylim(len(np.unique(y_test)), 0)  # Fix for matplotlib 3.1.1 and 3.1.2\n",
        "plt.title('Confusion Matrix')\n",
        "plt.xlabel('Predicted labels')\n",
        "plt.ylabel('True labels')\n",
        "\n",
        "# Save the plot as PNG\n",
        "plt.tight_layout()\n",
        "plt.savefig('confusion_matrix.png', dpi=300)\n",
        "plt.show()\n",
        "\n",
        "# Printing classification report\n",
        "print(\"Classification Report:\")\n",
        "print(classification_report(y_test, y_pred))\n"
      ],
      "metadata": {
        "colab": {
          "base_uri": "https://localhost:8080/",
          "height": 251
        },
        "id": "334qGBizVjOg",
        "outputId": "40d78067-8b51-464a-fa45-3008e79c30fd"
      },
      "execution_count": null,
      "outputs": [
        {
          "output_type": "display_data",
          "data": {
            "text/plain": [
              "<Figure size 800x600 with 2 Axes>"
            ],
            "image/png": "[encoded data removed]"
          },
          "metadata": {}
        },
        {
          "output_type": "stream",
          "name": "stdout",
          "text": [
            "Classification Report:\n",
            "              precision    recall  f1-score   support\n",
            "\n",
            "           0       1.00      1.00      1.00         7\n",
            "           1       0.78      0.58      0.67        12\n",
            "           2       0.64      0.82      0.72        11\n",
            "\n",
            "    accuracy                           0.77        30\n",
            "   macro avg       0.81      0.80      0.80        30\n",
            "weighted avg       0.78      0.77      0.76        30\n",
            "\n"
          ]
        }
      ]
    },
    {
      "cell_type": "markdown",
      "metadata": {
        "jp-MarkdownHeadingCollapsed": true,
        "tags": [],
        "id": "VsXSr4CaVJ2u"
      },
      "source": [
        "## `RBF()`"
      ]
    },
    {
      "cell_type": "code",
      "source": [
        "from sklearn.svm import SVC\n",
        "from sklearn.metrics import confusion_matrix, classification_report\n",
        "import seaborn as sns\n",
        "import matplotlib.pyplot as plt\n",
        "import numpy as np\n",
        "\n",
        "# Assuming you've trained your model already\n",
        "model = SVC(kernel='rbf', random_state=12)\n",
        "model.fit(x_train, y_train)\n",
        "\n",
        "# Making predictions on the test set\n",
        "y_pred = model.predict(x_test)\n",
        "\n",
        "# Calculating confusion matrix\n",
        "cf_matrix = confusion_matrix(y_test, y_pred)\n",
        "\n",
        "# Plotting confusion matrix as a heatmap with fitted text\n",
        "plt.figure(figsize=(8, 6))\n",
        "sns.heatmap(cf_matrix, annot=True, fmt='d', cmap='Blues', annot_kws={\"size\": 12})\n",
        "\n",
        "# Get the axis to modify layout\n",
        "plt.gca().set_ylim(len(np.unique(y_test)), 0)  # Fix for matplotlib 3.1.1 and 3.1.2\n",
        "plt.title('Confusion Matrix')\n",
        "plt.xlabel('Predicted labels')\n",
        "plt.ylabel('True labels')\n",
        "\n",
        "# Save the plot as PNG\n",
        "plt.tight_layout()\n",
        "plt.savefig('confusion_matrix.png', dpi=300)\n",
        "plt.show()\n",
        "\n",
        "# Printing classification report\n",
        "print(\"Classification Report:\")\n",
        "print(classification_report(y_test, y_pred))\n"
      ],
      "metadata": {
        "colab": {
          "base_uri": "https://localhost:8080/",
          "height": 804
        },
        "id": "Wj3oXhlrVWoF",
        "outputId": "c7fda8ad-5d57-48df-e45e-b7d892df4e1c"
      },
      "execution_count": null,
      "outputs": [
        {
          "output_type": "display_data",
          "data": {
            "text/plain": [
              "<Figure size 800x600 with 2 Axes>"
            ],
            "image/png": "[encoded data removed]"
          },
          "metadata": {}
        },
        {
          "output_type": "stream",
          "name": "stdout",
          "text": [
            "Classification Report:\n",
            "              precision    recall  f1-score   support\n",
            "\n",
            "           0       1.00      1.00      1.00         7\n",
            "           1       0.83      0.83      0.83        12\n",
            "           2       0.82      0.82      0.82        11\n",
            "\n",
            "    accuracy                           0.87        30\n",
            "   macro avg       0.88      0.88      0.88        30\n",
            "weighted avg       0.87      0.87      0.87        30\n",
            "\n"
          ]
        }
      ]
    },
    {
      "cell_type": "code",
      "source": [
        "from sklearn.gaussian_process import GaussianProcessClassifier\n",
        "from sklearn.gaussian_process.kernels import RBF\n",
        "from sklearn.metrics import confusion_matrix, classification_report\n",
        "import seaborn as sns\n",
        "import matplotlib.pyplot as plt\n",
        "\n",
        "# Assuming you've trained your model already\n",
        "kernel = 0.1 * RBF(0.1)  # Define the RBF kernel\n",
        "model = GaussianProcessClassifier(kernel=kernel, random_state=12)\n",
        "model.fit(x_train, y_train)\n",
        "\n",
        "# Making predictions on the test set\n",
        "y_pred = model.predict(x_test)\n",
        "\n",
        "# Calculating confusion matrix\n",
        "cf_matrix = confusion_matrix(y_test, y_pred)\n",
        "\n",
        "# Plotting confusion matrix as a heatmap with fitted text\n",
        "plt.figure(figsize=(8, 6))\n",
        "sns.heatmap(cf_matrix, annot=True, fmt='d', cmap='Blues', annot_kws={\"size\": 12})\n",
        "\n",
        "# Get the axis to modify layout\n",
        "plt.gca().set_ylim(len(np.unique(y_test)), 0)  # Fix for matplotlib 3.1.1 and 3.1.2\n",
        "plt.title('Confusion Matrix')\n",
        "plt.xlabel('Predicted labels')\n",
        "plt.ylabel('True labels')\n",
        "\n",
        "# Save the plot as PNG\n",
        "plt.tight_layout()\n",
        "plt.savefig('confusion_matrix.png', dpi=300)\n",
        "plt.show()\n",
        "\n",
        "# Printing classification report\n",
        "print(\"Classification Report:\")\n",
        "print(classification_report(y_test, y_pred))\n"
      ],
      "metadata": {
        "id": "wowmDotWU9x3",
        "colab": {
          "base_uri": "https://localhost:8080/",
          "height": 804
        },
        "outputId": "eec9c142-2efd-4957-e948-ff14379f6b05"
      },
      "execution_count": null,
      "outputs": [
        {
          "output_type": "display_data",
          "data": {
            "text/plain": [
              "<Figure size 800x600 with 2 Axes>"
            ],
            "image/png": "[encoded data removed]"
          },
          "metadata": {}
        },
        {
          "output_type": "stream",
          "name": "stdout",
          "text": [
            "Classification Report:\n",
            "              precision    recall  f1-score   support\n",
            "\n",
            "           0       1.00      1.00      1.00         7\n",
            "           1       0.83      0.83      0.83        12\n",
            "           2       0.82      0.82      0.82        11\n",
            "\n",
            "    accuracy                           0.87        30\n",
            "   macro avg       0.88      0.88      0.88        30\n",
            "weighted avg       0.87      0.87      0.87        30\n",
            "\n"
          ]
        }
      ]
    }
  ]
}